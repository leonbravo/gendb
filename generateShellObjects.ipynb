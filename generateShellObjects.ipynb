{
 "cells": [
  {
   "cell_type": "code",
   "execution_count": 5,
   "metadata": {
    "scrolled": true
   },
   "outputs": [
    {
     "output_type": "error",
     "ename": "Error",
     "evalue": "Jupyter cannot be started. Error attempting to locate jupyter: Data Science libraries jupyter and notebook are not installed in interpreter Python 3.8.2 32-bit.",
     "traceback": [
      "Error: Jupyter cannot be started. Error attempting to locate jupyter: Data Science libraries jupyter and notebook are not installed in interpreter Python 3.8.2 32-bit.",
      "at C.startServer (c:\\Users\\leonardo.bravo\\.vscode\\extensions\\ms-python.python-2020.3.71659\\out\\client\\extension.js:1:776232)",
      "at async C.ensureServerAndNotebookImpl (c:\\Users\\leonardo.bravo\\.vscode\\extensions\\ms-python.python-2020.3.71659\\out\\client\\extension.js:1:775687)",
      "at async C.ensureServerAndNotebook (c:\\Users\\leonardo.bravo\\.vscode\\extensions\\ms-python.python-2020.3.71659\\out\\client\\extension.js:1:775377)",
      "at async C.clearResult (c:\\Users\\leonardo.bravo\\.vscode\\extensions\\ms-python.python-2020.3.71659\\out\\client\\extension.js:1:771418)",
      "at async C.reexecuteCell (c:\\Users\\leonardo.bravo\\.vscode\\extensions\\ms-python.python-2020.3.71659\\out\\client\\extension.js:1:760783)",
      "at async C.reexecuteCells (c:\\Users\\leonardo.bravo\\.vscode\\extensions\\ms-python.python-2020.3.71659\\out\\client\\extension.js:1:757797)"
     ]
    }
   ],
   "source": [
    "import os\n",
    "import fileinput\n",
    "import glob\n",
    "import shutil\n",
    "\n",
    "#os.listdir(path)\n",
    "\n",
    "def setDestinationPath(path):\n",
    "    global destination\n",
    "    destination = path\n",
    "\n",
    "def setSourcePath(path):\n",
    "    global source\n",
    "    source = path    \n",
    "    \n",
    "\n",
    "def copyFile(src):\n",
    "  shutil.copy2(src, destination)\n",
    "    \n",
    "setDestinationPath('D:/dev/')\n",
    "setSourcePath('.')\n",
    "for fsqlname in glob.glob('*.sql'): \n",
    "    print (\"Name of the file: \", fsqlname)\n",
    "    fsql= open(source +'//'+ fsqlname, 'r')   \n",
    "    copyFile(fsql)    \n",
    "    "
   ]
  },
  {
   "cell_type": "code",
   "execution_count": null,
   "metadata": {
    "collapsed": true
   },
   "outputs": [],
   "source": []
  }
 ],
 "metadata": {
  "kernelspec": {
   "display_name": "Python 3",
   "language": "python",
   "name": "python3"
  },
  "language_info": {
   "codemirror_mode": {
    "name": "ipython",
    "version": 3
   },
   "file_extension": ".py",
   "mimetype": "text/x-python",
   "name": "python",
   "nbconvert_exporter": "python",
   "pygments_lexer": "ipython3",
   "version": "3.6.3"
  }
 },
 "nbformat": 4,
 "nbformat_minor": 2
}