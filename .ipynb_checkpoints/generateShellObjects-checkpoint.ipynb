{
 "cells": [
  {
   "cell_type": "code",
   "execution_count": 1,
   "metadata": {},
   "outputs": [
    {
     "name": "stdout",
     "output_type": "stream",
     "text": [
      "Name of the file:  dim_table.sql\n"
     ]
    }
   ],
   "source": [
    "import os\n",
    "import fileinput\n",
    "import glob\n",
    "import shutil\n",
    "\n",
    "#os.listdir(path)\n",
    "#fsql= open(\"./dim_table.sql\", 'r')   \n",
    "#for fsql in glob.glob('*.sql'):\n",
    "\n",
    "def setDestinationPath(path):\n",
    "    global destination\n",
    "    destination = path\n",
    "\n",
    "def setSourcePath(path):\n",
    "    global source\n",
    "    source = path    \n",
    "    \n",
    "def readFileListGlob( path ):\n",
    "   return glob.glob('*.sql')\n",
    "\n",
    "def copyFile(src):\n",
    "  shutil(src, destination)\n",
    "    \n",
    "setDestinationPath('D:/dev/')\n",
    "setSourcePath('.')\n",
    "for fsql in readFileListGlob(source): \n",
    "    print (\"Name of the file: \", fsql)\n",
    "    copyFile(source +'//'+ fsql)    \n",
    "    "
   ]
  },
  {
   "cell_type": "code",
   "execution_count": null,
   "metadata": {
    "collapsed": true
   },
   "outputs": [],
   "source": []
  }
 ],
 "metadata": {
  "kernelspec": {
   "display_name": "Python 3",
   "language": "python",
   "name": "python3"
  },
  "language_info": {
   "codemirror_mode": {
    "name": "ipython",
    "version": 3
   },
   "file_extension": ".py",
   "mimetype": "text/x-python",
   "name": "python",
   "nbconvert_exporter": "python",
   "pygments_lexer": "ipython3",
   "version": "3.6.3"
  }
 },
 "nbformat": 4,
 "nbformat_minor": 2
}
